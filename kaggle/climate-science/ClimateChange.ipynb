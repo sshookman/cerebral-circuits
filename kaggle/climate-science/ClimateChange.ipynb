{
 "cells": [
  {
   "cell_type": "code",
   "execution_count": 1,
   "metadata": {
    "collapsed": true
   },
   "outputs": [],
   "source": [
    "### IMPORTS ###\n",
    "\n",
    "%matplotlib inline\n",
    "\n",
    "import matplotlib.pyplot as plt\n",
    "import pandas as pd\n",
    "import numpy as np"
   ]
  },
  {
   "cell_type": "code",
   "execution_count": 10,
   "metadata": {
    "collapsed": true
   },
   "outputs": [],
   "source": [
    "### ACQUIRE DATA ###\n",
    "\n",
    "city = pd.read_csv('data/GlobalLandTemperaturesByCity.csv')\n",
    "mcity = pd.read_csv('data/GlobalLandTemperaturesByMajorCity.csv')\n",
    "state = pd.read_csv('data/GlobalLandTemperaturesByState.csv')\n",
    "cntry = pd.read_csv('data/GlobalLandTemperaturesByCountry.csv')\n",
    "globe = pd.read_csv('data/GlobalTemperatures.csv')"
   ]
  },
  {
   "cell_type": "code",
   "execution_count": 19,
   "metadata": {},
   "outputs": [
    {
     "data": {
      "text/html": [
       "<div>\n",
       "<style>\n",
       "    .dataframe thead tr:only-child th {\n",
       "        text-align: right;\n",
       "    }\n",
       "\n",
       "    .dataframe thead th {\n",
       "        text-align: left;\n",
       "    }\n",
       "\n",
       "    .dataframe tbody tr th {\n",
       "        vertical-align: top;\n",
       "    }\n",
       "</style>\n",
       "<table border=\"1\" class=\"dataframe\">\n",
       "  <thead>\n",
       "    <tr style=\"text-align: right;\">\n",
       "      <th></th>\n",
       "      <th>dt</th>\n",
       "      <th>AverageTemperature</th>\n",
       "      <th>AverageTemperatureUncertainty</th>\n",
       "      <th>City</th>\n",
       "      <th>Country</th>\n",
       "      <th>Latitude</th>\n",
       "      <th>Longitude</th>\n",
       "    </tr>\n",
       "  </thead>\n",
       "  <tbody>\n",
       "    <tr>\n",
       "      <th>1543348</th>\n",
       "      <td>1743-11-01</td>\n",
       "      <td>5.436</td>\n",
       "      <td>2.205</td>\n",
       "      <td>Chicago</td>\n",
       "      <td>United States</td>\n",
       "      <td>42.59N</td>\n",
       "      <td>87.27W</td>\n",
       "    </tr>\n",
       "    <tr>\n",
       "      <th>1543353</th>\n",
       "      <td>1744-04-01</td>\n",
       "      <td>8.766</td>\n",
       "      <td>2.357</td>\n",
       "      <td>Chicago</td>\n",
       "      <td>United States</td>\n",
       "      <td>42.59N</td>\n",
       "      <td>87.27W</td>\n",
       "    </tr>\n",
       "    <tr>\n",
       "      <th>1543354</th>\n",
       "      <td>1744-05-01</td>\n",
       "      <td>11.605</td>\n",
       "      <td>2.102</td>\n",
       "      <td>Chicago</td>\n",
       "      <td>United States</td>\n",
       "      <td>42.59N</td>\n",
       "      <td>87.27W</td>\n",
       "    </tr>\n",
       "    <tr>\n",
       "      <th>1543355</th>\n",
       "      <td>1744-06-01</td>\n",
       "      <td>17.965</td>\n",
       "      <td>1.989</td>\n",
       "      <td>Chicago</td>\n",
       "      <td>United States</td>\n",
       "      <td>42.59N</td>\n",
       "      <td>87.27W</td>\n",
       "    </tr>\n",
       "    <tr>\n",
       "      <th>1543356</th>\n",
       "      <td>1744-07-01</td>\n",
       "      <td>21.680</td>\n",
       "      <td>1.786</td>\n",
       "      <td>Chicago</td>\n",
       "      <td>United States</td>\n",
       "      <td>42.59N</td>\n",
       "      <td>87.27W</td>\n",
       "    </tr>\n",
       "  </tbody>\n",
       "</table>\n",
       "</div>"
      ],
      "text/plain": [
       "                 dt  AverageTemperature  AverageTemperatureUncertainty  \\\n",
       "1543348  1743-11-01               5.436                          2.205   \n",
       "1543353  1744-04-01               8.766                          2.357   \n",
       "1543354  1744-05-01              11.605                          2.102   \n",
       "1543355  1744-06-01              17.965                          1.989   \n",
       "1543356  1744-07-01              21.680                          1.786   \n",
       "\n",
       "            City        Country Latitude Longitude  \n",
       "1543348  Chicago  United States   42.59N    87.27W  \n",
       "1543353  Chicago  United States   42.59N    87.27W  \n",
       "1543354  Chicago  United States   42.59N    87.27W  \n",
       "1543355  Chicago  United States   42.59N    87.27W  \n",
       "1543356  Chicago  United States   42.59N    87.27W  "
      ]
     },
     "execution_count": 19,
     "metadata": {},
     "output_type": "execute_result"
    }
   ],
   "source": [
    "city[(city.City == 'Chicago')].dropna().head()"
   ]
  },
  {
   "cell_type": "code",
   "execution_count": 20,
   "metadata": {},
   "outputs": [
    {
     "data": {
      "text/plain": [
       "<matplotlib.axes._subplots.AxesSubplot at 0x110b90f60>"
      ]
     },
     "execution_count": 20,
     "metadata": {},
     "output_type": "execute_result"
    },
    {
     "data": {
      "image/png": "[encoded data removed]",
      "text/plain": [
       "<matplotlib.figure.Figure at 0x110bb2438>"
      ]
     },
     "metadata": {},
     "output_type": "display_data"
    }
   ],
   "source": [
    "city[(city.City == 'Chicago')].dropna().plot(x='dt', y='AverageTemperature')"
   ]
  },
  {
   "cell_type": "code",
   "execution_count": null,
   "metadata": {
    "collapsed": true
   },
   "outputs": [],
   "source": []
  }
 ],
 "metadata": {
  "kernelspec": {
   "display_name": "Python 3",
   "language": "python",
   "name": "python3"
  },
  "language_info": {
   "codemirror_mode": {
    "name": "ipython",
    "version": 3
   },
   "file_extension": ".py",
   "mimetype": "text/x-python",
   "name": "python",
   "nbconvert_exporter": "python",
   "pygments_lexer": "ipython3",
   "version": "3.6.2"
  }
 },
 "nbformat": 4,
 "nbformat_minor": 2
}

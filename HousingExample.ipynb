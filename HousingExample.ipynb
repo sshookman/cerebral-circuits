{
 "cells": [
  {
   "cell_type": "code",
   "execution_count": 1,
   "metadata": {
    "collapsed": true
   },
   "outputs": [],
   "source": [
    "### IMPORTS ###\n",
    "\n",
    "%matplotlib inline\n",
    "\n",
    "import matplotlib.pyplot as plt\n",
    "import pandas as pd\n",
    "import numpy as np\n",
    "\n",
    "from sklearn.model_selection import train_test_split\n",
    "from sklearn.metrics import mean_squared_error\n",
    "from sklearn import linear_model"
   ]
  },
  {
   "cell_type": "code",
   "execution_count": 2,
   "metadata": {},
   "outputs": [],
   "source": [
    "### FUNCTIONS ###\n",
    "\n",
    "def clean_nulls(dataframe):\n",
    "    df = dataframe.copy()\n",
    "    for x in range(0, df.columns.size):\n",
    "        column_name = df.columns[x]\n",
    "        count = df[column_name].isnull().sum()\n",
    "        percent = (count / len(df[column_name]) * 100)\n",
    "        dtype = df[column_name].dtype\n",
    "        if count > 0:\n",
    "            if dtype == 'O':\n",
    "                df[column_name].fillna('NA', inplace=True)\n",
    "            elif dtype == 'float64':\n",
    "                df[column_name].fillna(0, inplace=True)\n",
    "    return df\n",
    "\n",
    "def apply_all_transforms(dataframe):\n",
    "    def encode(x): return 1 if x == 'Partial' else 0\n",
    "    \n",
    "    df = dataframe.copy()\n",
    "    df = clean_nulls(df) # Setting null values to NA for categorical and 0 for numeric\n",
    "    \n",
    "    # Perform encoding for categorical features\n",
    "    df['enc_street']    = pd.get_dummies(train.Street, drop_first=True)\n",
    "    df['enc_condition'] = train.SaleCondition.apply(encode)\n",
    "    \n",
    "    # Remove any features that are not numeric\n",
    "    df = df.select_dtypes(include=[np.number])\n",
    "    \n",
    "    return df"
   ]
  },
  {
   "cell_type": "code",
   "execution_count": 3,
   "metadata": {
    "collapsed": true
   },
   "outputs": [],
   "source": [
    "### ACQUIRE DATA ###\n",
    "\n",
    "test = pd.read_csv('test.csv')\n",
    "train = pd.read_csv('train.csv')"
   ]
  },
  {
   "cell_type": "code",
   "execution_count": 4,
   "metadata": {},
   "outputs": [],
   "source": [
    "### TRANSFORM ###\n",
    "\n",
    "train_mod = apply_all_transforms(train)\n",
    "test_mod = apply_all_transforms(test)"
   ]
  },
  {
   "cell_type": "code",
   "execution_count": 5,
   "metadata": {},
   "outputs": [
    {
     "name": "stderr",
     "output_type": "stream",
     "text": [
      "/usr/local/lib/python3.6/site-packages/scipy/linalg/basic.py:1018: RuntimeWarning: internal gelsd driver lwork query error, required iwork dimension not returned. This is likely the result of LAPACK bug 0038, fixed in LAPACK 3.2.2 (released July 21, 2010). Falling back to 'gelss' driver.\n",
      "  warnings.warn(mesg, RuntimeWarning)\n"
     ]
    }
   ],
   "source": [
    "### MODEL ###\n",
    "\n",
    "y = np.log(train_mod.SalePrice)\n",
    "X = train_mod.drop(['SalePrice', 'Id'], axis=1)\n",
    "X_train, X_test, y_train, y_test = train_test_split(X, y, random_state=42, test_size=.33)\n",
    "\n",
    "lr = linear_model.LinearRegression()\n",
    "model = lr.fit(X_train, y_train)"
   ]
  },
  {
   "cell_type": "code",
   "execution_count": 6,
   "metadata": {},
   "outputs": [
    {
     "name": "stdout",
     "output_type": "stream",
     "text": [
      "R^2 is: \n",
      " 0.865267037971\n",
      "RMSE is: \n",
      " 0.0229627250967\n"
     ]
    },
    {
     "data": {
      "image/png": "[encoded data removed]",
      "text/plain": [
       "<matplotlib.figure.Figure at 0x10e69ac88>"
      ]
     },
     "metadata": {},
     "output_type": "display_data"
    }
   ],
   "source": [
    "### EVALUATE ###\n",
    "\n",
    "predictions = model.predict(X_test)\n",
    "\n",
    "print (\"R^2 is: \\n\", model.score(X_test, y_test))\n",
    "print ('RMSE is: \\n', mean_squared_error(y_test, predictions))\n",
    "\n",
    "actual_values = y_test\n",
    "plt.scatter(predictions, actual_values, alpha=.75, color='b')\n",
    "plt.xlabel('Predicted Price')\n",
    "plt.ylabel('Actual Price')\n",
    "plt.title('Linear Regression Model')\n",
    "plt.show()"
   ]
  }
 ],
 "metadata": {
  "kernelspec": {
   "display_name": "Python 3",
   "language": "python",
   "name": "python3"
  },
  "language_info": {
   "codemirror_mode": {
    "name": "ipython",
    "version": 3
   },
   "file_extension": ".py",
   "mimetype": "text/x-python",
   "name": "python",
   "nbconvert_exporter": "python",
   "pygments_lexer": "ipython3",
   "version": "3.6.2"
  }
 },
 "nbformat": 4,
 "nbformat_minor": 2
}

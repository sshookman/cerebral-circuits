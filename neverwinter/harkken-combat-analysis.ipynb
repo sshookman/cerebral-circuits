{
 "cells": [
  {
   "cell_type": "markdown",
   "metadata": {},
   "source": [
    "# Neverwinter Combat Analysis\n",
    "An examination of combat data exported from Neverwinter.\n",
    "\n",
    "---"
   ]
  },
  {
   "cell_type": "markdown",
   "metadata": {},
   "source": [
    "## Reading the logs\n",
    "First lets import everything we will need to do our analysis and then read in the csv file."
   ]
  },
  {
   "cell_type": "code",
   "execution_count": 1,
   "metadata": {},
   "outputs": [],
   "source": [
    "%matplotlib inline\n",
    "import matplotlib.pyplot as plt\n",
    "import pandas as pd\n",
    "import numpy as np\n",
    "\n",
    "logs = pd.read_csv('logs/2017-10-01.csv', header=None, usecols=[0,3,4,6,9,10])"
   ]
  },
  {
   "cell_type": "code",
   "execution_count": 50,
   "metadata": {
    "collapsed": true
   },
   "outputs": [],
   "source": [
    "def clean_nulls(dataframe):\n",
    "    df = dataframe.copy()\n",
    "    for x in range(0, df.columns.size):\n",
    "        column_name = df.columns[x]\n",
    "        count = df[column_name].isnull().sum()\n",
    "        percent = (count / len(df[column_name]) * 100)\n",
    "        dtype = df[column_name].dtype\n",
    "        if count > 0:\n",
    "            if dtype == 'O':\n",
    "                df[column_name].fillna('NA', inplace=True)\n",
    "            elif dtype == 'float64':\n",
    "                df[column_name].fillna(0, inplace=True)\n",
    "    return df"
   ]
  },
  {
   "cell_type": "code",
   "execution_count": 52,
   "metadata": {},
   "outputs": [],
   "source": [
    "clean = clean_nulls(logs)"
   ]
  },
  {
   "cell_type": "markdown",
   "metadata": {},
   "source": [
    "## Filtering the logs\n",
    "For our examination we are going to start by looking at the damage that the player (Harkken) dealt during combat. We will need to filter out some of the data in order to accomplish this, since other players and enemies are present in the data as well.\n",
    "\n",
    "First we will filter the first column by rows that contain the name \"Harkken\".\n",
    "\n",
    "Then we need to filter the third column to remove any rows that contain the word \"Pet\". This prevents us from seeing any damage that Harkken's pet may have dealt during combat.\n",
    "\n",
    "After that we will filter on the fourth column to make sure that the damage was dealth to an enemy. We can do this by checking to see if the column is empty. If the column is empty, it implies the player injured himslef (a trap, perhaps) and we should filter that out.\n",
    "\n",
    "Finally we need to filter the last column, column 10, which indicates damage dealt. We filter this to find values that are greater than zero. Anything less than zero implies a heal, and not combat damage."
   ]
  },
  {
   "cell_type": "code",
   "execution_count": 58,
   "metadata": {},
   "outputs": [],
   "source": [
    "def get_combat_damage(dataframe):\n",
    "    df = dataframe.copy()\n",
    "    df = df[df[4] != '']\n",
    "    df = df[df[10] > 0]\n",
    "    df = df[df[0].str.contains(\"Harkken\") == True]\n",
    "    df = df[df[3].str.contains(\"Pet\") == False]\n",
    "    df = df[df[6].str.contains(\"Marauder's Rush\") == False]\n",
    "    df = df[df[6].str.contains(\"Minor Body Injury\") == False]\n",
    "    df = df[df[6].str.contains(\"Aura of Courage\") == False]\n",
    "    df = df[df[6].str.contains(\"Clear the Ground\") == False]\n",
    "    df = df[df[6].str.contains(\"Grasping Roots\") == False]\n",
    "    df = df[df[6].str.contains(\"Disruptive Shot\") == False]\n",
    "    df = df[df[6].str.contains(\"Steel Breeze\") == False]\n",
    "    df = df[df[6].str.contains(\"Aimed Strike\") == False]\n",
    "    df = df[df[9].str.contains(\"Critical\") == False]\n",
    "    return df"
   ]
  },
  {
   "cell_type": "code",
   "execution_count": 59,
   "metadata": {},
   "outputs": [
    {
     "data": {
      "text/html": [
       "<div>\n",
       "<style>\n",
       "    .dataframe thead tr:only-child th {\n",
       "        text-align: right;\n",
       "    }\n",
       "\n",
       "    .dataframe thead th {\n",
       "        text-align: left;\n",
       "    }\n",
       "\n",
       "    .dataframe tbody tr th {\n",
       "        vertical-align: top;\n",
       "    }\n",
       "</style>\n",
       "<table border=\"1\" class=\"dataframe\">\n",
       "  <thead>\n",
       "    <tr style=\"text-align: right;\">\n",
       "      <th></th>\n",
       "      <th>0</th>\n",
       "      <th>3</th>\n",
       "      <th>4</th>\n",
       "      <th>6</th>\n",
       "      <th>9</th>\n",
       "      <th>10</th>\n",
       "    </tr>\n",
       "  </thead>\n",
       "  <tbody>\n",
       "    <tr>\n",
       "      <th>23</th>\n",
       "      <td>17:09:28:22:50:35.0::Harkken</td>\n",
       "      <td>C[166107 Entity_Splitthesky]</td>\n",
       "      <td>Imp</td>\n",
       "      <td>Split the Sky</td>\n",
       "      <td>NA</td>\n",
       "      <td>453.279</td>\n",
       "    </tr>\n",
       "    <tr>\n",
       "      <th>24</th>\n",
       "      <td>17:09:28:22:50:35.0::Harkken</td>\n",
       "      <td>C[166107 Entity_Splitthesky]</td>\n",
       "      <td>Imp</td>\n",
       "      <td>Split the Sky</td>\n",
       "      <td>NA</td>\n",
       "      <td>396.013</td>\n",
       "    </tr>\n",
       "    <tr>\n",
       "      <th>25</th>\n",
       "      <td>17:09:28:22:50:35.0::Harkken</td>\n",
       "      <td>*</td>\n",
       "      <td>Imp</td>\n",
       "      <td>Constricting Arrow</td>\n",
       "      <td>Kill</td>\n",
       "      <td>692.335</td>\n",
       "    </tr>\n",
       "    <tr>\n",
       "      <th>30</th>\n",
       "      <td>17:09:28:22:50:36.2::Harkken</td>\n",
       "      <td>*</td>\n",
       "      <td>Imp</td>\n",
       "      <td>Electric Shot</td>\n",
       "      <td>Kill</td>\n",
       "      <td>279.502</td>\n",
       "    </tr>\n",
       "    <tr>\n",
       "      <th>32</th>\n",
       "      <td>17:09:28:22:50:36.2::Harkken</td>\n",
       "      <td>*</td>\n",
       "      <td>Imp</td>\n",
       "      <td>Electric Shot</td>\n",
       "      <td>NA</td>\n",
       "      <td>297.065</td>\n",
       "    </tr>\n",
       "  </tbody>\n",
       "</table>\n",
       "</div>"
      ],
      "text/plain": [
       "                              0                             3    4   \\\n",
       "23  17:09:28:22:50:35.0::Harkken  C[166107 Entity_Splitthesky]  Imp   \n",
       "24  17:09:28:22:50:35.0::Harkken  C[166107 Entity_Splitthesky]  Imp   \n",
       "25  17:09:28:22:50:35.0::Harkken                             *  Imp   \n",
       "30  17:09:28:22:50:36.2::Harkken                             *  Imp   \n",
       "32  17:09:28:22:50:36.2::Harkken                             *  Imp   \n",
       "\n",
       "                    6     9        10  \n",
       "23       Split the Sky    NA  453.279  \n",
       "24       Split the Sky    NA  396.013  \n",
       "25  Constricting Arrow  Kill  692.335  \n",
       "30       Electric Shot  Kill  279.502  \n",
       "32       Electric Shot    NA  297.065  "
      ]
     },
     "execution_count": 59,
     "metadata": {},
     "output_type": "execute_result"
    }
   ],
   "source": [
    "cmbt = get_combat_damage(clean)\n",
    "cmbt.head()"
   ]
  },
  {
   "cell_type": "code",
   "execution_count": 60,
   "metadata": {},
   "outputs": [
    {
     "data": {
      "text/plain": [
       "NA            1663\n",
       "Kill           320\n",
       "Flank           48\n",
       "Flank|Kill      15\n",
       "Name: 9, dtype: int64"
      ]
     },
     "execution_count": 60,
     "metadata": {},
     "output_type": "execute_result"
    }
   ],
   "source": [
    "cmbt[9].value_counts()"
   ]
  },
  {
   "cell_type": "code",
   "execution_count": 61,
   "metadata": {},
   "outputs": [
    {
     "ename": "TypeError",
     "evalue": "object of type 'int' has no len()",
     "output_type": "error",
     "traceback": [
      "\u001b[0;31m---------------------------------------------------------------------------\u001b[0m",
      "\u001b[0;31mTypeError\u001b[0m                                 Traceback (most recent call last)",
      "\u001b[0;32m<ipython-input-61-3305c16962b0>\u001b[0m in \u001b[0;36m<module>\u001b[0;34m()\u001b[0m\n\u001b[0;32m----> 1\u001b[0;31m \u001b[0mcmbt\u001b[0m\u001b[0;34m.\u001b[0m\u001b[0mboxplot\u001b[0m\u001b[0;34m(\u001b[0m\u001b[0mcolumn\u001b[0m\u001b[0;34m=\u001b[0m\u001b[0;36m10\u001b[0m\u001b[0;34m,\u001b[0m \u001b[0mby\u001b[0m\u001b[0;34m=\u001b[0m\u001b[0;36m6\u001b[0m\u001b[0;34m,\u001b[0m \u001b[0mfigsize\u001b[0m\u001b[0;34m=\u001b[0m\u001b[0;34m(\u001b[0m\u001b[0;36m10\u001b[0m\u001b[0;34m,\u001b[0m \u001b[0;36m10\u001b[0m\u001b[0;34m)\u001b[0m\u001b[0;34m)\u001b[0m\u001b[0;34m\u001b[0m\u001b[0m\n\u001b[0m",
      "\u001b[0;32m~/.local/lib/python3.5/site-packages/pandas/core/frame.py\u001b[0m in \u001b[0;36mboxplot\u001b[0;34m(self, column, by, ax, fontsize, rot, grid, figsize, layout, return_type, **kwds)\u001b[0m\n\u001b[1;32m   5845\u001b[0m     ax = boxplot(self, column=column, by=by, ax=ax, fontsize=fontsize,\n\u001b[1;32m   5846\u001b[0m                  \u001b[0mgrid\u001b[0m\u001b[0;34m=\u001b[0m\u001b[0mgrid\u001b[0m\u001b[0;34m,\u001b[0m \u001b[0mrot\u001b[0m\u001b[0;34m=\u001b[0m\u001b[0mrot\u001b[0m\u001b[0;34m,\u001b[0m \u001b[0mfigsize\u001b[0m\u001b[0;34m=\u001b[0m\u001b[0mfigsize\u001b[0m\u001b[0;34m,\u001b[0m \u001b[0mlayout\u001b[0m\u001b[0;34m=\u001b[0m\u001b[0mlayout\u001b[0m\u001b[0;34m,\u001b[0m\u001b[0;34m\u001b[0m\u001b[0m\n\u001b[0;32m-> 5847\u001b[0;31m                  return_type=return_type, **kwds)\n\u001b[0m\u001b[1;32m   5848\u001b[0m     \u001b[0mplt\u001b[0m\u001b[0;34m.\u001b[0m\u001b[0mdraw_if_interactive\u001b[0m\u001b[0;34m(\u001b[0m\u001b[0;34m)\u001b[0m\u001b[0;34m\u001b[0m\u001b[0m\n\u001b[1;32m   5849\u001b[0m     \u001b[0;32mreturn\u001b[0m \u001b[0max\u001b[0m\u001b[0;34m\u001b[0m\u001b[0m\n",
      "\u001b[0;32m~/.local/lib/python3.5/site-packages/pandas/plotting/_core.py\u001b[0m in \u001b[0;36mboxplot\u001b[0;34m(data, column, by, ax, fontsize, rot, grid, figsize, layout, return_type, **kwds)\u001b[0m\n\u001b[1;32m   2001\u001b[0m                                          \u001b[0mby\u001b[0m\u001b[0;34m=\u001b[0m\u001b[0mby\u001b[0m\u001b[0;34m,\u001b[0m \u001b[0mgrid\u001b[0m\u001b[0;34m=\u001b[0m\u001b[0mgrid\u001b[0m\u001b[0;34m,\u001b[0m \u001b[0mfigsize\u001b[0m\u001b[0;34m=\u001b[0m\u001b[0mfigsize\u001b[0m\u001b[0;34m,\u001b[0m\u001b[0;34m\u001b[0m\u001b[0m\n\u001b[1;32m   2002\u001b[0m                                          \u001b[0max\u001b[0m\u001b[0;34m=\u001b[0m\u001b[0max\u001b[0m\u001b[0;34m,\u001b[0m \u001b[0mlayout\u001b[0m\u001b[0;34m=\u001b[0m\u001b[0mlayout\u001b[0m\u001b[0;34m,\u001b[0m\u001b[0;34m\u001b[0m\u001b[0m\n\u001b[0;32m-> 2003\u001b[0;31m                                          return_type=return_type)\n\u001b[0m\u001b[1;32m   2004\u001b[0m     \u001b[0;32melse\u001b[0m\u001b[0;34m:\u001b[0m\u001b[0;34m\u001b[0m\u001b[0m\n\u001b[1;32m   2005\u001b[0m         \u001b[0;32mif\u001b[0m \u001b[0mreturn_type\u001b[0m \u001b[0;32mis\u001b[0m \u001b[0;32mNone\u001b[0m\u001b[0;34m:\u001b[0m\u001b[0;34m\u001b[0m\u001b[0m\n",
      "\u001b[0;32m~/.local/lib/python3.5/site-packages/pandas/plotting/_core.py\u001b[0m in \u001b[0;36m_grouped_plot_by_column\u001b[0;34m(plotf, data, columns, by, numeric_only, grid, figsize, ax, layout, return_type, **kwargs)\u001b[0m\n\u001b[1;32m   2406\u001b[0m         \u001b[0mresult\u001b[0m \u001b[0;34m=\u001b[0m \u001b[0maxes\u001b[0m\u001b[0;34m\u001b[0m\u001b[0m\n\u001b[1;32m   2407\u001b[0m \u001b[0;34m\u001b[0m\u001b[0m\n\u001b[0;32m-> 2408\u001b[0;31m     \u001b[0mbyline\u001b[0m \u001b[0;34m=\u001b[0m \u001b[0mby\u001b[0m\u001b[0;34m[\u001b[0m\u001b[0;36m0\u001b[0m\u001b[0;34m]\u001b[0m \u001b[0;32mif\u001b[0m \u001b[0mlen\u001b[0m\u001b[0;34m(\u001b[0m\u001b[0mby\u001b[0m\u001b[0;34m)\u001b[0m \u001b[0;34m==\u001b[0m \u001b[0;36m1\u001b[0m \u001b[0;32melse\u001b[0m \u001b[0mby\u001b[0m\u001b[0;34m\u001b[0m\u001b[0m\n\u001b[0m\u001b[1;32m   2409\u001b[0m     \u001b[0mfig\u001b[0m\u001b[0;34m.\u001b[0m\u001b[0msuptitle\u001b[0m\u001b[0;34m(\u001b[0m\u001b[0;34m'Boxplot grouped by %s'\u001b[0m \u001b[0;34m%\u001b[0m \u001b[0mbyline\u001b[0m\u001b[0;34m)\u001b[0m\u001b[0;34m\u001b[0m\u001b[0m\n\u001b[1;32m   2410\u001b[0m     \u001b[0mfig\u001b[0m\u001b[0;34m.\u001b[0m\u001b[0msubplots_adjust\u001b[0m\u001b[0;34m(\u001b[0m\u001b[0mbottom\u001b[0m\u001b[0;34m=\u001b[0m\u001b[0;36m0.15\u001b[0m\u001b[0;34m,\u001b[0m \u001b[0mtop\u001b[0m\u001b[0;34m=\u001b[0m\u001b[0;36m0.9\u001b[0m\u001b[0;34m,\u001b[0m \u001b[0mleft\u001b[0m\u001b[0;34m=\u001b[0m\u001b[0;36m0.1\u001b[0m\u001b[0;34m,\u001b[0m \u001b[0mright\u001b[0m\u001b[0;34m=\u001b[0m\u001b[0;36m0.9\u001b[0m\u001b[0;34m,\u001b[0m \u001b[0mwspace\u001b[0m\u001b[0;34m=\u001b[0m\u001b[0;36m0.2\u001b[0m\u001b[0;34m)\u001b[0m\u001b[0;34m\u001b[0m\u001b[0m\n",
      "\u001b[0;31mTypeError\u001b[0m: object of type 'int' has no len()"
     ]
    },
    {
     "data": {
      "image/png": "[encoded data removed]",
      "text/plain": [
       "<matplotlib.figure.Figure at 0x7f30c1d21860>"
      ]
     },
     "metadata": {},
     "output_type": "display_data"
    }
   ],
   "source": [
    "cmbt.boxplot(column=10, by=6, figsize=(10, 10))"
   ]
  }
 ],
 "metadata": {
  "kernelspec": {
   "display_name": "Python 3",
   "language": "python",
   "name": "python3"
  },
  "language_info": {
   "codemirror_mode": {
    "name": "ipython",
    "version": 3
   },
   "file_extension": ".py",
   "mimetype": "text/x-python",
   "name": "python",
   "nbconvert_exporter": "python",
   "pygments_lexer": "ipython3",
   "version": "3.5.3"
  }
 },
 "nbformat": 4,
 "nbformat_minor": 2
}
